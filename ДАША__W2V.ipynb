{
  "cells": [
    {
      "cell_type": "code",
      "execution_count": null,
      "metadata": {
        "id": "dU-hYabYxr-n"
      },
      "outputs": [],
      "source": [
        "import os\n",
        "import sys\n",
        "import codecs\n",
        "import gensim\n",
        "from gensim.models import Word2Vec\n",
        "from gensim.models.word2vec import LineSentence\n"
      ]
    },
    {
      "cell_type": "code",
      "source": [
        "import nltk\n",
        "nltk.download('stopwords')\n",
        "from nltk.corpus import stopwords"
      ],
      "metadata": {
        "id": "hfHynmCunym9"
      },
      "execution_count": null,
      "outputs": []
    },
    {
      "cell_type": "code",
      "source": [
        "with open('/content/stopwords.txt', 'r', encoding='utf-8') as f:\n",
        "    stop_words = f.read().splitlines()\n",
        "\n",
        "# Загружаем дополнительно стоп-слова из NLTK\n",
        "stop_words.extend(stopwords.words('russian'))\n",
        "# Избавляемся от дубликатов\n",
        "stw = list(stop_words)"
      ],
      "metadata": {
        "id": "d_F9MBjxnLQr"
      },
      "execution_count": null,
      "outputs": []
    },
    {
      "cell_type": "code",
      "source": [
        "import zipfile\n",
        "from zipfile import ZipFile\n",
        "\n",
        "# открываем зипфайл и читаем его\n",
        "with zipfile.ZipFile('/content/CWV.zip', 'r') as z:\n",
        "  z.extractall('CWV')\n",
        "\n",
        "print('Done')"
      ],
      "metadata": {
        "id": "aq_rZ7AHn-OJ"
      },
      "execution_count": null,
      "outputs": []
    },
    {
      "cell_type": "code",
      "source": [
        "corpus_files = os.listdir('CWV/CWV')"
      ],
      "metadata": {
        "id": "KeGi_wD9oFPL"
      },
      "execution_count": null,
      "outputs": []
    },
    {
      "cell_type": "code",
      "source": [
        "!pip install pymorphy2\n",
        "!pip install -U pymorphy2-dicts-ru\n",
        "import pymorphy2 as pm\n",
        "morph = pm.MorphAnalyzer()\n",
        "\n",
        "nltk.download('punkt')\n",
        "\n",
        "docs = []\n",
        "# Предобрабатываем данные (предобработка одинаковая для всех моделей)\n",
        "for ind, txt in enumerate(corpus_files):\n",
        "    with open('CWV/CWV//' + txt, 'r', encoding='utf-8') as f:\n",
        "        text = nltk.word_tokenize(f.read().lower())\n",
        "        text = [token for token in text if len(token) > 2]\n",
        "        text = [morph.parse(token)[0].normal_form for token in text if token not in stop_words]\n",
        "\n",
        "    with open('cwv_new.txt', 'a', encoding='utf-8') as g:\n",
        "        g.write('\\n'.join(text))\n"
      ],
      "metadata": {
        "colab": {
          "base_uri": "https://localhost:8080/"
        },
        "id": "vZBiBGIUoI2-",
        "outputId": "527604c7-41f3-4bc3-e86b-9022934dad47"
      },
      "execution_count": null,
      "outputs": [
        {
          "output_type": "stream",
          "name": "stdout",
          "text": [
            "Looking in indexes: https://pypi.org/simple, https://us-python.pkg.dev/colab-wheels/public/simple/\n",
            "Requirement already satisfied: pymorphy2 in /usr/local/lib/python3.10/dist-packages (0.9.1)\n",
            "Requirement already satisfied: dawg-python>=0.7.1 in /usr/local/lib/python3.10/dist-packages (from pymorphy2) (0.7.2)\n",
            "Requirement already satisfied: pymorphy2-dicts-ru<3.0,>=2.4 in /usr/local/lib/python3.10/dist-packages (from pymorphy2) (2.4.417127.4579844)\n",
            "Requirement already satisfied: docopt>=0.6 in /usr/local/lib/python3.10/dist-packages (from pymorphy2) (0.6.2)\n",
            "Looking in indexes: https://pypi.org/simple, https://us-python.pkg.dev/colab-wheels/public/simple/\n",
            "Requirement already satisfied: pymorphy2-dicts-ru in /usr/local/lib/python3.10/dist-packages (2.4.417127.4579844)\n"
          ]
        },
        {
          "output_type": "stream",
          "name": "stderr",
          "text": [
            "[nltk_data] Downloading package punkt to /root/nltk_data...\n",
            "[nltk_data]   Package punkt is already up-to-date!\n"
          ]
        }
      ]
    },
    {
      "cell_type": "code",
      "execution_count": null,
      "metadata": {
        "id": "efXYOjaDxr_T",
        "colab": {
          "base_uri": "https://localhost:8080/"
        },
        "outputId": "c8eab0f5-be5b-4ab1-b485-f8944d5a3b86"
      },
      "outputs": [
        {
          "output_type": "stream",
          "name": "stderr",
          "text": [
            "<ipython-input-17-4899a05df544>:6: DeprecationWarning: Call to deprecated `init_sims` (Gensim 4.0.0 implemented internal optimizations that make calls to init_sims() unnecessary. init_sims() is now obsoleted and will be completely removed in future versions. See https://github.com/RaRe-Technologies/gensim/wiki/Migrating-from-Gensim-3.x-to-4).\n",
            "  model.init_sims(replace=True)#clearmemory\n",
            "WARNING:gensim.models.keyedvectors:destructive init_sims(replace=True) deprecated & no longer required for space-efficiency\n"
          ]
        }
      ],
      "source": [
        "model = Word2Vec(LineSentence('/content/cwv_new.txt'),\n",
        "                 vector_size=150,\n",
        "                 window=1,\n",
        "                 min_count=5,\n",
        "                 workers=2)\n",
        "model.init_sims(replace=True)#clearmemory\n",
        "model.save('agac.model')"
      ]
    },
    {
      "cell_type": "code",
      "execution_count": null,
      "metadata": {
        "id": "yxdSbS4Bxr_z"
      },
      "outputs": [],
      "source": [
        "m=Word2Vec.load('agac.model')"
      ]
    },
    {
      "cell_type": "code",
      "execution_count": null,
      "metadata": {
        "colab": {
          "base_uri": "https://localhost:8080/"
        },
        "id": "U_ZTzHzAxsAN",
        "outputId": "4b4a63c2-5a20-434d-db7a-9405cbb9ce41"
      },
      "outputs": [
        {
          "output_type": "stream",
          "name": "stdout",
          "text": [
            "словосочетание 0.2713514566421509\n",
            "отклонение 0.2629016637802124\n",
            "однозначный 0.25456103682518005\n",
            "сервис 0.21817566454410553\n",
            "исходный 0.20098769664764404\n",
            "присутствовать 0.187544584274292\n",
            "достижение 0.17859354615211487\n",
            "важный 0.17708662152290344\n",
            "степень 0.17553845047950745\n",
            "понятность 0.17419439554214478\n"
          ]
        }
      ],
      "source": [
        "for t in m.wv.most_similar(\n",
        "    positive=[u'тема'],\n",
        "    topn=10):\n",
        "    print (t[0], t[1])"
      ]
    },
    {
      "cell_type": "code",
      "execution_count": null,
      "metadata": {
        "colab": {
          "base_uri": "https://localhost:8080/"
        },
        "id": "0NgR6ujhxsAn",
        "outputId": "f4507549-d2ef-495b-f765-1d6f9d149b8c"
      },
      "outputs": [
        {
          "output_type": "execute_result",
          "data": {
            "text/plain": [
              "-0.026275167"
            ]
          },
          "metadata": {},
          "execution_count": 20
        }
      ],
      "source": [
        "model.wv.similarity(\"тема\", \"модель\")"
      ]
    },
    {
      "cell_type": "code",
      "execution_count": null,
      "metadata": {
        "colab": {
          "base_uri": "https://localhost:8080/"
        },
        "id": "Mzwpq6qixsA7",
        "outputId": "d8efb56f-c560-48fc-aac0-34c905183ad5"
      },
      "outputs": [
        {
          "output_type": "stream",
          "name": "stdout",
          "text": [
            "вероятность 0.218373641371727\n",
            "система 0.21630661189556122\n",
            "возможность 0.20979483425617218\n",
            "имя 0.20176918804645538\n",
            "соответствие 0.193699911236763\n",
            "дальнейший 0.18890121579170227\n",
            "честь 0.18350517749786377\n",
            "справа 0.17592546343803406\n",
            "элементарный 0.1745530217885971\n",
            "найти 0.17005859315395355\n"
          ]
        }
      ],
      "source": [
        "for t in m.wv.most_similar(\n",
        "    positive=[u'моделирование'],\n",
        "    topn=10):\n",
        "    print (t[0], t[1])"
      ]
    },
    {
      "cell_type": "code",
      "execution_count": null,
      "metadata": {
        "colab": {
          "base_uri": "https://localhost:8080/"
        },
        "id": "lHqXjwonrMT-",
        "outputId": "21e5a0bf-22f7-449b-8f3d-965284df444a"
      },
      "outputs": [
        {
          "output_type": "stream",
          "name": "stdout",
          "text": [
            "отвечать 0.22465559840202332\n",
            "особенность 0.20593029260635376\n",
            "кодирование 0.20455044507980347\n",
            "процесс 0.20444752275943756\n",
            "ситуация 0.20412950217723846\n",
            "выявление 0.2040136307477951\n",
            "эффективность 0.19493205845355988\n",
            "обозначать 0.17859335243701935\n",
            "полный 0.1736636459827423\n",
            "ситуативный 0.17100518941879272\n"
          ]
        }
      ],
      "source": [
        "for t in m.wv.most_similar(\n",
        "    positive=[u'язык'],\n",
        "    topn=10):\n",
        "    print (t[0], t[1])"
      ]
    },
    {
      "cell_type": "code",
      "execution_count": null,
      "metadata": {
        "colab": {
          "base_uri": "https://localhost:8080/"
        },
        "id": "deTb8ZgxrMT_",
        "outputId": "facf035e-4eae-45b5-8e5e-869c63ce8867"
      },
      "outputs": [
        {
          "output_type": "stream",
          "name": "stdout",
          "text": [
            "контекст 0.2758943438529968\n",
            "укладка 0.19133694469928741\n",
            "предложение 0.18602581322193146\n",
            "адресат 0.17027367651462555\n",
            "цифровой 0.16995222866535187\n",
            "виртуальный 0.16841761767864227\n",
            "текст 0.16760919988155365\n",
            "ситуативный 0.15844441950321198\n",
            "потребность 0.15370216965675354\n",
            "объём 0.15276256203651428\n"
          ]
        }
      ],
      "source": [
        "for t in m.wv.most_similar(\n",
        "    positive=[u'корпус'],\n",
        "    topn=10):\n",
        "    print (t[0], t[1])"
      ]
    },
    {
      "cell_type": "code",
      "execution_count": null,
      "metadata": {
        "id": "c881jlHzrMT_",
        "outputId": "165d7ee5-c724-4ed6-9706-2ebd9fa8126b",
        "colab": {
          "base_uri": "https://localhost:8080/"
        }
      },
      "outputs": [
        {
          "output_type": "stream",
          "name": "stdout",
          "text": [
            "необходимо 0.20405925810337067\n",
            "понятие 0.20276904106140137\n",
            "решение 0.18554669618606567\n",
            "запрос 0.1819687783718109\n",
            "оставаться 0.18043272197246552\n",
            "отбор 0.17488837242126465\n",
            "рамка 0.16666537523269653\n",
            "граф 0.16522300243377686\n",
            "морфоанализатор 0.1637609302997589\n",
            "лексический 0.16353276371955872\n"
          ]
        }
      ],
      "source": [
        "for t in m.wv.most_similar(\n",
        "    positive=[u'обработка'],\n",
        "    topn=10):\n",
        "    print (t[0], t[1])"
      ]
    },
    {
      "cell_type": "code",
      "execution_count": null,
      "metadata": {
        "id": "_KiDvRcXrMT_",
        "outputId": "73c1b9bf-fa04-4ff2-b1f0-909d7690b2bf",
        "colab": {
          "base_uri": "https://localhost:8080/"
        }
      },
      "outputs": [
        {
          "output_type": "stream",
          "name": "stdout",
          "text": [
            "использование 0.23029468953609467\n",
            "шаблон 0.2056879848241806\n",
            "информационный 0.19975334405899048\n",
            "доступ 0.19505248963832855\n",
            "следующий 0.19421739876270294\n",
            "россия 0.19058679044246674\n",
            "разработать 0.1891024112701416\n",
            "использовать 0.18342241644859314\n",
            "рис 0.1833161860704422\n",
            "требовать 0.1800341010093689\n"
          ]
        }
      ],
      "source": [
        "for t in m.wv.most_similar(\n",
        "    positive=[u'лингвистика'],\n",
        "    topn=10):\n",
        "    print (t[0], t[1])"
      ]
    },
    {
      "cell_type": "code",
      "execution_count": null,
      "metadata": {
        "id": "Phh5B5ZfrMT_",
        "outputId": "799c896e-2379-49e5-d4a6-348259b50096",
        "colab": {
          "base_uri": "https://localhost:8080/"
        }
      },
      "outputs": [
        {
          "output_type": "stream",
          "name": "stdout",
          "text": [
            "прилагательное 0.24742703139781952\n",
            "учёт 0.21919168531894684\n",
            "счёт 0.21770964562892914\n",
            "частый 0.20906232297420502\n",
            "лир 0.20539669692516327\n",
            "представить 0.1947689950466156\n",
            "хороший 0.19348931312561035\n",
            "формат 0.1833253800868988\n",
            "источник 0.18307539820671082\n",
            "друг 0.18125616014003754\n"
          ]
        }
      ],
      "source": [
        "for t in m.wv.most_similar(\n",
        "    positive=[u'русский'],\n",
        "    topn=10):\n",
        "    print (t[0], t[1])"
      ]
    },
    {
      "cell_type": "code",
      "execution_count": null,
      "metadata": {
        "id": "WgH4N9fTrMUA",
        "outputId": "cba33f59-1d02-4642-f814-9b2b4ca44ea8",
        "colab": {
          "base_uri": "https://localhost:8080/"
        }
      },
      "outputs": [
        {
          "output_type": "stream",
          "name": "stdout",
          "text": [
            "граф 0.1886148601770401\n",
            "подход 0.18650135397911072\n",
            "строка 0.18470749258995056\n",
            "языковой 0.1836666464805603\n",
            "являться 0.18107230961322784\n",
            "условие 0.1779090166091919\n",
            "перевод 0.17532706260681152\n",
            "нейтральный 0.1744997650384903\n",
            "терминологический 0.17055736482143402\n",
            "применение 0.1696794182062149\n"
          ]
        }
      ],
      "source": [
        "for t in m.wv.most_similar(\n",
        "    positive=[u'поиск'],\n",
        "    topn=10):\n",
        "    print (t[0], t[1])"
      ]
    },
    {
      "cell_type": "code",
      "execution_count": null,
      "metadata": {
        "id": "UtBSBleirMUA",
        "outputId": "3a8a41f6-b718-4e31-f013-3db402c3526b",
        "colab": {
          "base_uri": "https://localhost:8080/"
        }
      },
      "outputs": [
        {
          "output_type": "stream",
          "name": "stdout",
          "text": [
            "значение 0.2316165715456009\n",
            "страна 0.22576777637004852\n",
            "проект 0.21992447972297668\n",
            "падеж 0.20049934089183807\n",
            "помощь 0.19916854798793793\n",
            "отсылать 0.18819455802440643\n",
            "смысловой 0.18617971241474152\n",
            "фрагмент 0.17627757787704468\n",
            "рассматриваться 0.174295112490654\n",
            "рамка 0.17409780621528625\n"
          ]
        }
      ],
      "source": [
        "for t in m.wv.most_similar(\n",
        "    positive=[u'сеть'],\n",
        "    topn=10):\n",
        "    print (t[0], t[1])"
      ]
    },
    {
      "cell_type": "code",
      "execution_count": null,
      "metadata": {
        "id": "IT4NzSbkrMUA",
        "outputId": "b75255f2-a957-4f24-daa4-69fb163ec620",
        "colab": {
          "base_uri": "https://localhost:8080/"
        }
      },
      "outputs": [
        {
          "output_type": "stream",
          "name": "stdout",
          "text": [
            "контроль 0.24095796048641205\n",
            "достижение 0.23567189276218414\n",
            "наука 0.22522898018360138\n",
            "честь 0.21297335624694824\n",
            "однозначный 0.1993536353111267\n"
          ]
        }
      ],
      "source": [
        "for t in m.wv.most_similar(positive=['модель', 'тема', 'корпус', 'моделирование'], negative=['язык'], topn=5):\n",
        "    print (t[0], t[1])"
      ]
    },
    {
      "cell_type": "code",
      "execution_count": null,
      "metadata": {
        "id": "uhpykBWXrMUA",
        "outputId": "6f1d2d5f-a15b-415f-f5e9-ccec414ca38e",
        "colab": {
          "base_uri": "https://localhost:8080/",
          "height": 812
        }
      },
      "outputs": [
        {
          "output_type": "stream",
          "name": "stdout",
          "text": [
            "None\n"
          ]
        },
        {
          "output_type": "display_data",
          "data": {
            "text/plain": [
              "<Figure size 900x900 with 1 Axes>"
            ],
            "image/png": "[encoded data removed]"
          },
          "metadata": {}
        }
      ],
      "source": [
        "import numpy as np\n",
        "import matplotlib.pyplot as plt\n",
        "import pandas as pd\n",
        "\n",
        "import seaborn as sns\n",
        "\n",
        "sns.set_style(\"darkgrid\")\n",
        "\n",
        "from sklearn.decomposition import PCA\n",
        "from sklearn.manifold import TSNE\n",
        "\n",
        "def tsnescatterplot(model, word, list_names):\n",
        "    \"\"\" Plot in seaborn the results from the t-SNE dimensionality reduction algorithm of the vectors of a query word,\n",
        "    its list of most similar words, and a list of words.\n",
        "    \"\"\"\n",
        "    arrays = np.empty((0, 150), dtype='f')\n",
        "    word_labels = [word]\n",
        "    color_list = ['red']\n",
        "\n",
        "    # adds the vector of the query word\n",
        "    arrays = np.append(arrays, model.wv.__getitem__([word]), axis=0)\n",
        "\n",
        "    # gets list of most similar words\n",
        "    close_words = model.wv.most_similar([word])\n",
        "\n",
        "    # adds the vector for each of the closest words to the array\n",
        "    for wrd_score in close_words:\n",
        "        wrd_vector = model.wv.__getitem__([wrd_score[0]])\n",
        "        word_labels.append(wrd_score[0])\n",
        "        color_list.append('blue')\n",
        "        arrays = np.append(arrays, wrd_vector, axis=0)\n",
        "\n",
        "    # adds the vector for each of the words from list_names to the array\n",
        "    for wrd in list_names:\n",
        "        wrd_vector = model.wv.__getitem__([wrd])\n",
        "        word_labels.append(wrd)\n",
        "        color_list.append('green')\n",
        "        arrays = np.append(arrays, wrd_vector, axis=0)\n",
        "\n",
        "    # Reduces the dimensionality from 300 to 50 dimensions with PCA\n",
        "    reduc = PCA(n_components=4).fit_transform(arrays)\n",
        "\n",
        "    # Finds t-SNE coordinates for 2 dimensions\n",
        "    np.set_printoptions(suppress=True)\n",
        "\n",
        "    Y = TSNE(n_components=2, random_state=0, perplexity=15).fit_transform(reduc)\n",
        "\n",
        "    # Sets everything up to plot\n",
        "    df = pd.DataFrame({'x': [x for x in Y[:, 0]],\n",
        "                       'y': [y for y in Y[:, 1]],\n",
        "                       'words': word_labels,\n",
        "                       'color': color_list})\n",
        "\n",
        "    fig, _ = plt.subplots()\n",
        "    fig.set_size_inches(9, 9)\n",
        "\n",
        "    # Basic plot\n",
        "    p1 = sns.regplot(data=df,\n",
        "                     x=\"x\",\n",
        "                     y=\"y\",\n",
        "                     fit_reg=False,\n",
        "                     marker=\"o\",\n",
        "                     scatter_kws={'s': 40,\n",
        "                                  'facecolors': df['color']\n",
        "                                  }\n",
        "                     )\n",
        "\n",
        "    # Adds annotations one by one with a loop\n",
        "    for line in range(0, df.shape[0]):\n",
        "        p1.text(df[\"x\"][line],\n",
        "                df['y'][line],\n",
        "                '  ' + df[\"words\"][line].title(),\n",
        "                horizontalalignment='left',\n",
        "                verticalalignment='bottom', size='medium',\n",
        "                color=df['color'][line],\n",
        "                weight='normal'\n",
        "                ).set_size(15)\n",
        "\n",
        "    plt.xlim(Y[:, 0].min() - 50, Y[:, 0].max() + 50)\n",
        "    plt.ylim(Y[:, 1].min() - 50, Y[:, 1].max() + 50)\n",
        "\n",
        "    plt.title('t-SNE visualization for {}'.format)\n",
        "\n",
        "list_words = ['граф', 'поиск', 'документ', 'тема', 'язык', 'текст','речь', 'образ',\n",
        "              'семантический', 'тематический', 'контекст', 'технология', 'доступ']\n",
        "\n",
        "print(tsnescatterplot(model, 'русский', list_words))\n"
      ]
    },
    {
      "cell_type": "code",
      "execution_count": null,
      "metadata": {
        "collapsed": true,
        "id": "ZR-1mSrgrMUB"
      },
      "outputs": [],
      "source": []
    }
  ],
  "metadata": {
    "colab": {
      "provenance": []
    },
    "kernelspec": {
      "display_name": "Python 3 (ipykernel)",
      "language": "python",
      "name": "python3"
    },
    "language_info": {
      "codemirror_mode": {
        "name": "ipython",
        "version": 3
      },
      "file_extension": ".py",
      "mimetype": "text/x-python",
      "name": "python",
      "nbconvert_exporter": "python",
      "pygments_lexer": "ipython3",
      "version": "3.10.9"
    }
  },
  "nbformat": 4,
  "nbformat_minor": 0
}