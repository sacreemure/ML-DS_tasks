{
 "cells": [
  {
   "cell_type": "code",
   "execution_count": 7,
   "id": "01ac0b9d",
   "metadata": {},
   "outputs": [],
   "source": [
    "import gensim\n",
    "import re\n",
    "import os\n",
    "from tqdm import tqdm\n",
    "from gensim.models import Doc2Vec\n",
    "from gensim.models.doc2vec import Doc2Vec, TaggedDocument\n",
    "from nltk.tokenize import word_tokenize\n",
    "import pandas as pd\n",
    "from random import sample\n",
    "import numpy as np\n",
    "import matplotlib.pyplot as plt\n",
    "import pymorphy2\n",
    "import seaborn as sns\n",
    "from sklearn.linear_model import LogisticRegression\n",
    "from sklearn import utils\n",
    "from sklearn.model_selection import train_test_split\n",
    "from sklearn.metrics import confusion_matrix, ConfusionMatrixDisplay\n",
    "from sklearn.ensemble import RandomForestClassifier\n",
    "from sklearn.pipeline import Pipeline\n",
    "from rake_nltk import Rake"
   ]
  },
  {
   "cell_type": "code",
   "execution_count": 8,
   "id": "8f891251",
   "metadata": {},
   "outputs": [],
   "source": [
    "def show_cm(target_test, predicted):\n",
    "    cm =  metrics.confusion_matrix(target_test, predicted)\n",
    "    cm_display = metrics.ConfusionMatrixDisplay(confusion_matrix=cm)\n",
    "\n",
    "    cm_display.plot()\n",
    "    plt.show()"
   ]
  },
  {
   "cell_type": "code",
   "execution_count": 9,
   "id": "56a4fef3",
   "metadata": {},
   "outputs": [],
   "source": [
    "def process_corpus(dir_path: str, eval: str):\n",
    "    results = []\n",
    "    morph = pymorphy2.MorphAnalyzer()\n",
    "    r_model = Rake(language='russian')\n",
    "    for item in os.listdir(dir_path):\n",
    "        path = dir_path + '/' + item\n",
    "        if os.path.isfile(path):\n",
    "            with open(path, encoding='utf-8') as f:\n",
    "                text = f.read()\n",
    "                text = re.split('<\\d+>', text)\n",
    "                for instance in text:\n",
    "                    words = instance.split(' ')\n",
    "                    lemmatized_text = [morph.parse(word)[0].normal_form for word in words]\n",
    "                    lemmatized_text = ' '.join(lemmatized_text)\n",
    "                    r_model.extract_keywords_from_text(instance)\n",
    "                    raked_text = ' '.join(r_model.get_ranked_phrases())\n",
    "                    results.append((instance, lemmatized_text, raked_text, eval))\n",
    "    return results"
   ]
  },
  {
   "cell_type": "code",
   "execution_count": 10,
   "id": "59f29a6b",
   "metadata": {},
   "outputs": [],
   "source": [
    "def get_data_news(rel_path: str):\n",
    "    path = os.path.abspath('') + rel_path\n",
    "    for item in os.listdir(path):\n",
    "        item_path = path + '/' + item\n",
    "        if os.path.isdir(item_path):\n",
    "            results = process_corpus(item_path, item)\n",
    "            df = pd.DataFrame(results)\n",
    "            df.to_csv('news_processed.csv', mode='a', index=False, header=False)"
   ]
  },
  {
   "cell_type": "code",
   "execution_count": 11,
   "id": "691f692f",
   "metadata": {},
   "outputs": [],
   "source": [
    "get_data_news('/corpus_news')"
   ]
  },
  {
   "cell_type": "code",
   "execution_count": 12,
   "id": "937de1fd",
   "metadata": {},
   "outputs": [
    {
     "data": {
      "text/html": [
       "<div>\n",
       "<style scoped>\n",
       "    .dataframe tbody tr th:only-of-type {\n",
       "        vertical-align: middle;\n",
       "    }\n",
       "\n",
       "    .dataframe tbody tr th {\n",
       "        vertical-align: top;\n",
       "    }\n",
       "\n",
       "    .dataframe thead th {\n",
       "        text-align: right;\n",
       "    }\n",
       "</style>\n",
       "<table border=\"1\" class=\"dataframe\">\n",
       "  <thead>\n",
       "    <tr style=\"text-align: right;\">\n",
       "      <th></th>\n",
       "      <th>Raw</th>\n",
       "      <th>Lemmatized</th>\n",
       "      <th>Rake</th>\n",
       "      <th>Evaluation</th>\n",
       "    </tr>\n",
       "  </thead>\n",
       "  <tbody>\n",
       "    <tr>\n",
       "      <th>0</th>\n",
       "      <td>Посещение храма Василия Блаженного могут огран...</td>\n",
       "      <td>посещение храм василий блаженный мочь ограничи...</td>\n",
       "      <td>посещение храма василия блаженного могут огран...</td>\n",
       "      <td>culture</td>\n",
       "    </tr>\n",
       "    <tr>\n",
       "      <th>1</th>\n",
       "      <td>Александр Серов назвал Афину идиоткой, дочь св...</td>\n",
       "      <td>александр серов назвать афина идиоткой, дочь с...</td>\n",
       "      <td>время программы произошло сразу несколько непр...</td>\n",
       "      <td>culture</td>\n",
       "    </tr>\n",
       "    <tr>\n",
       "      <th>2</th>\n",
       "      <td>Тарантино сожалеет о ДТП, но душил цепью Уму Т...</td>\n",
       "      <td>тарантино сожалеть о дтп, но душить цепь ум ту...</td>\n",
       "      <td>интервью изданию vulture тарантино признался д...</td>\n",
       "      <td>culture</td>\n",
       "    </tr>\n",
       "    <tr>\n",
       "      <th>3</th>\n",
       "      <td>Подарок на 146 лет: 9 и 10 февраля вход в Исто...</td>\n",
       "      <td>подарок на 146 лет: 9 и 10 февраль вход в исто...</td>\n",
       "      <td>экспозиции музея отечественной войны 1812 года...</td>\n",
       "      <td>culture</td>\n",
       "    </tr>\n",
       "    <tr>\n",
       "      <th>4</th>\n",
       "      <td>Российским артистам предложили гастролировать ...</td>\n",
       "      <td>российский артист предложить гастролировать на...</td>\n",
       "      <td>железных клетках дмитрий корчинский — известны...</td>\n",
       "      <td>culture</td>\n",
       "    </tr>\n",
       "    <tr>\n",
       "      <th>...</th>\n",
       "      <td>...</td>\n",
       "      <td>...</td>\n",
       "      <td>...</td>\n",
       "      <td>...</td>\n",
       "    </tr>\n",
       "    <tr>\n",
       "      <th>6309</th>\n",
       "      <td>Самые древние \"мелки\" окрасили историю первобы...</td>\n",
       "      <td>самый древний \"мелки\" окрасить история первобы...</td>\n",
       "      <td>руки археологов недавно попали самые древние о...</td>\n",
       "      <td>science</td>\n",
       "    </tr>\n",
       "    <tr>\n",
       "      <th>6310</th>\n",
       "      <td>На Большом адронном коллайдере обнаружена част...</td>\n",
       "      <td>на большой адронный коллайдер обнаружить части...</td>\n",
       "      <td>большом адронном коллайдере физики заставляли ...</td>\n",
       "      <td>science</td>\n",
       "    </tr>\n",
       "    <tr>\n",
       "      <th>6311</th>\n",
       "      <td>Долгожданный скелет рассказывает о туманной ис...</td>\n",
       "      <td>долгожданный скелет рассказывать о туманный ис...</td>\n",
       "      <td>mansourasaurus shahinae ), впервые раскрывает ...</td>\n",
       "      <td>science</td>\n",
       "    </tr>\n",
       "    <tr>\n",
       "      <th>6312</th>\n",
       "      <td>На орбиту выведена \"звезда человечества\", кото...</td>\n",
       "      <td>на орбита вывести \"звезда человечества\", котор...</td>\n",
       "      <td>объектов ночного неба частная компания rocket ...</td>\n",
       "      <td>science</td>\n",
       "    </tr>\n",
       "    <tr>\n",
       "      <th>6313</th>\n",
       "      <td>Учёные исследовали плиту с рекордным количеств...</td>\n",
       "      <td>учёный исследовать плита с рекордный количеств...</td>\n",
       "      <td>шириной 90 сантиметров буквально испещрена сле...</td>\n",
       "      <td>science</td>\n",
       "    </tr>\n",
       "  </tbody>\n",
       "</table>\n",
       "<p>6314 rows × 4 columns</p>\n",
       "</div>"
      ],
      "text/plain": [
       "                                                    Raw   \n",
       "0     Посещение храма Василия Блаженного могут огран...  \\\n",
       "1     Александр Серов назвал Афину идиоткой, дочь св...   \n",
       "2     Тарантино сожалеет о ДТП, но душил цепью Уму Т...   \n",
       "3     Подарок на 146 лет: 9 и 10 февраля вход в Исто...   \n",
       "4     Российским артистам предложили гастролировать ...   \n",
       "...                                                 ...   \n",
       "6309  Самые древние \"мелки\" окрасили историю первобы...   \n",
       "6310  На Большом адронном коллайдере обнаружена част...   \n",
       "6311  Долгожданный скелет рассказывает о туманной ис...   \n",
       "6312  На орбиту выведена \"звезда человечества\", кото...   \n",
       "6313  Учёные исследовали плиту с рекордным количеств...   \n",
       "\n",
       "                                             Lemmatized   \n",
       "0     посещение храм василий блаженный мочь ограничи...  \\\n",
       "1     александр серов назвать афина идиоткой, дочь с...   \n",
       "2     тарантино сожалеть о дтп, но душить цепь ум ту...   \n",
       "3     подарок на 146 лет: 9 и 10 февраль вход в исто...   \n",
       "4     российский артист предложить гастролировать на...   \n",
       "...                                                 ...   \n",
       "6309  самый древний \"мелки\" окрасить история первобы...   \n",
       "6310  на большой адронный коллайдер обнаружить части...   \n",
       "6311  долгожданный скелет рассказывать о туманный ис...   \n",
       "6312  на орбита вывести \"звезда человечества\", котор...   \n",
       "6313  учёный исследовать плита с рекордный количеств...   \n",
       "\n",
       "                                                   Rake Evaluation  \n",
       "0     посещение храма василия блаженного могут огран...    culture  \n",
       "1     время программы произошло сразу несколько непр...    culture  \n",
       "2     интервью изданию vulture тарантино признался д...    culture  \n",
       "3     экспозиции музея отечественной войны 1812 года...    culture  \n",
       "4     железных клетках дмитрий корчинский — известны...    culture  \n",
       "...                                                 ...        ...  \n",
       "6309  руки археологов недавно попали самые древние о...    science  \n",
       "6310  большом адронном коллайдере физики заставляли ...    science  \n",
       "6311  mansourasaurus shahinae ), впервые раскрывает ...    science  \n",
       "6312  объектов ночного неба частная компания rocket ...    science  \n",
       "6313  шириной 90 сантиметров буквально испещрена сле...    science  \n",
       "\n",
       "[6314 rows x 4 columns]"
      ]
     },
     "execution_count": 12,
     "metadata": {},
     "output_type": "execute_result"
    }
   ],
   "source": [
    "df = pd.read_csv('news_processed.csv', names=['Raw', 'Lemmatized', 'Rake', 'Evaluation'])\n",
    "\n",
    "df.head(-10)"
   ]
  },
  {
   "cell_type": "code",
   "execution_count": 13,
   "id": "f2db518f",
   "metadata": {},
   "outputs": [],
   "source": [
    "evals = df['Evaluation']"
   ]
  },
  {
   "cell_type": "code",
   "execution_count": 19,
   "id": "8ed4bba9",
   "metadata": {},
   "outputs": [
    {
     "data": {
      "image/png": "[encoded data removed]",
      "text/plain": [
       "<Figure size 1200x400 with 1 Axes>"
      ]
     },
     "metadata": {},
     "output_type": "display_data"
    }
   ],
   "source": [
    "cnt_pro = df['Evaluation'].value_counts()\n",
    "\n",
    "plt.figure(figsize=(12,4))\n",
    "sns.barplot(x=cnt_pro.index, y=cnt_pro.values, alpha=0.8)\n",
    "plt.ylabel('Number of Occurrences', fontsize=12)\n",
    "plt.xlabel('Evaluation', fontsize=12)\n",
    "plt.xticks(rotation=90)\n",
    "plt.show();"
   ]
  },
  {
   "cell_type": "code",
   "execution_count": 20,
   "id": "a4217d8c",
   "metadata": {},
   "outputs": [],
   "source": [
    "train, test = train_test_split(df, test_size=0.3, random_state=42)"
   ]
  },
  {
   "cell_type": "code",
   "execution_count": 25,
   "id": "3356ae3b",
   "metadata": {},
   "outputs": [],
   "source": [
    "import nltk\n",
    "from nltk.corpus import stopwords\n",
    "def tokenize_text(text):\n",
    "    tokens = []\n",
    "    for sent in nltk.sent_tokenize(text):\n",
    "        for word in nltk.word_tokenize(sent):\n",
    "            if len(word) < 2:\n",
    "                continue\n",
    "            tokens.append(word.lower())\n",
    "    return tokens"
   ]
  },
  {
   "cell_type": "code",
   "execution_count": 26,
   "id": "efea3279",
   "metadata": {},
   "outputs": [],
   "source": [
    "train_tagged = train.apply(\n",
    "    lambda r: TaggedDocument(words=tokenize_text(r['Raw']), tags=[r.Evaluation]), axis=1)\n",
    "\n",
    "test_tagged = test.apply(\n",
    "    lambda r: TaggedDocument(words=tokenize_text(r['Raw']), tags=[r.Evaluation]), axis=1)"
   ]
  },
  {
   "cell_type": "code",
   "execution_count": 27,
   "id": "60831dbc",
   "metadata": {},
   "outputs": [
    {
     "data": {
      "text/plain": [
       "TaggedDocument(words=['путин', 'обсудил', 'макроном', 'меркель', 'происходящее', 'восточной', 'гуте', 'президент', 'рф', 'владимир', 'путин', 'обсудил', 'по', 'телефону', 'главой', 'франции', 'эммануэлем', 'макроном', 'исполняющей', 'обязанности', 'канцлера', 'германии', 'ангелой', 'меркель', 'сирийскую', 'проблему', 'поскольку', 'ситуация', 'восточной', 'гуте', 'развивается', 'требуется', 'доставка', 'гуманитарной', 'помощи', 'этот', 'другие', 'регионы', 'страны', 'особо', 'указывалось', 'что', 'благодаря', 'совместным', 'усилиям', 'удалось', 'принять', 'резолюцию', 'совета', 'безопасности', 'оон', '2401', 'путин', 'сообщил', 'действиях', 'российской', 'стороны', 'гуманитарной', 'помощи', 'эвакуации', 'людей', 'медицинской', 'помощи', 'населению', 'разговоре', 'подчеркивалось', 'что', 'резолюция', 'не', 'распространяется', 'на', 'операции', 'направленные', 'на', 'уничтожение', 'террористических', 'группировок', 'стороны', 'договорились', 'информировать', 'друг', 'друга', 'по', 'ситуации', 'сирии', '24', 'февраля', 'сб', 'оон', 'принял', 'резолюцию', 'требующую', 'обеспечения', 'гуманитарной', 'паузы', 'сирии', 'минимум', 'на', '30', 'дней', 'передает', 'риа', 'новости'], tags=['politics'])"
      ]
     },
     "execution_count": 27,
     "metadata": {},
     "output_type": "execute_result"
    }
   ],
   "source": [
    "train_tagged.values[30]"
   ]
  },
  {
   "cell_type": "markdown",
   "id": "de1e9fe4",
   "metadata": {},
   "source": [
    "Doc2Vec"
   ]
  },
  {
   "cell_type": "code",
   "execution_count": 28,
   "id": "817d943c",
   "metadata": {},
   "outputs": [],
   "source": [
    "import multiprocessing\n",
    "\n",
    "cores = multiprocessing.cpu_count()"
   ]
  },
  {
   "cell_type": "code",
   "execution_count": 29,
   "id": "e42d0fc9",
   "metadata": {},
   "outputs": [
    {
     "name": "stderr",
     "output_type": "stream",
     "text": [
      "100%|██████████████████████████████████████████████████████████████████████████| 4426/4426 [00:00<00:00, 764390.57it/s]\n"
     ]
    }
   ],
   "source": [
    "model_dbow = Doc2Vec(dm=0, vector_size=300, negative=5, hs=0, min_count=2, sample = 0, workers=cores)\n",
    "model_dbow.build_vocab([x for x in tqdm(train_tagged.values)])"
   ]
  },
  {
   "cell_type": "code",
   "execution_count": 30,
   "id": "a2fe90de",
   "metadata": {},
   "outputs": [
    {
     "name": "stderr",
     "output_type": "stream",
     "text": [
      "100%|██████████████████████████████████████████████████████████████████████████| 4426/4426 [00:00<00:00, 589108.58it/s]\n",
      "100%|██████████████████████████████████████████████████████████████████████████| 4426/4426 [00:00<00:00, 536252.51it/s]\n",
      "100%|██████████████████████████████████████████████████████████████████████████████████████| 4426/4426 [00:00<?, ?it/s]\n",
      "100%|██████████████████████████████████████████████████████████████████████████| 4426/4426 [00:00<00:00, 550239.77it/s]\n",
      "100%|██████████████████████████████████████████████████████████████████████████| 4426/4426 [00:00<00:00, 544845.90it/s]\n",
      "100%|██████████████████████████████████████████████████████████████████████████████████████| 4426/4426 [00:00<?, ?it/s]\n",
      "100%|██████████████████████████████████████████████████████████████████████████| 4426/4426 [00:00<00:00, 551908.36it/s]\n",
      "100%|██████████████████████████████████████████████████████████████████████████████████████| 4426/4426 [00:00<?, ?it/s]\n",
      "100%|██████████████████████████████████████████████████████████████████████████| 4426/4426 [00:00<00:00, 535741.81it/s]\n",
      "100%|██████████████████████████████████████████████████████████████████████████████████████| 4426/4426 [00:00<?, ?it/s]\n",
      "100%|██████████████████████████████████████████████████████████████████████████| 4426/4426 [00:00<00:00, 533524.63it/s]\n",
      "100%|██████████████████████████████████████████████████████████████████████████| 4426/4426 [00:00<00:00, 588959.06it/s]\n",
      "100%|██████████████████████████████████████████████████████████████████████████████████████| 4426/4426 [00:00<?, ?it/s]\n",
      "100%|██████████████████████████████████████████████████████████████████████████| 4426/4426 [00:00<00:00, 548532.62it/s]\n",
      "100%|██████████████████████████████████████████████████████████████████████████████████████| 4426/4426 [00:00<?, ?it/s]\n",
      "100%|██████████████████████████████████████████████████████████████████████████████████████| 4426/4426 [00:00<?, ?it/s]\n",
      "100%|██████████████████████████████████████████████████████████████████████████████████████| 4426/4426 [00:00<?, ?it/s]\n",
      "100%|██████████████████████████████████████████████████████████████████████████| 4426/4426 [00:00<00:00, 544973.86it/s]\n",
      "100%|██████████████████████████████████████████████████████████████████████████████████████| 4426/4426 [00:00<?, ?it/s]\n",
      "100%|██████████████████████████████████████████████████████████████████████████| 4426/4426 [00:00<00:00, 679153.78it/s]\n",
      "100%|██████████████████████████████████████████████████████████████████████████| 4426/4426 [00:00<00:00, 612288.98it/s]\n",
      "100%|██████████████████████████████████████████████████████████████████████████| 4426/4426 [00:00<00:00, 549734.65it/s]\n",
      "100%|██████████████████████████████████████████████████████████████████████████████████████| 4426/4426 [00:00<?, ?it/s]\n",
      "100%|██████████████████████████████████████████████████████████████████████████| 4426/4426 [00:00<00:00, 865534.76it/s]\n",
      "100%|██████████████████████████████████████████████████████████████████████████| 4426/4426 [00:00<00:00, 503621.43it/s]\n",
      "100%|█████████████████████████████████████████████████████████████████████████| 4426/4426 [00:00<00:00, 2191734.30it/s]\n",
      "100%|██████████████████████████████████████████████████████████████████████████| 4426/4426 [00:00<00:00, 628010.47it/s]\n",
      "100%|█████████████████████████████████████████████████████████████████████████| 4426/4426 [00:00<00:00, 1024785.51it/s]\n",
      "100%|█████████████████████████████████████████████████████████████████████████| 4426/4426 [00:00<00:00, 1109954.53it/s]\n",
      "100%|█████████████████████████████████████████████████████████████████████████| 4426/4426 [00:00<00:00, 1366908.88it/s]\n"
     ]
    }
   ],
   "source": [
    "for epoch in range(30):\n",
    "    model_dbow.train(utils.shuffle([x for x in tqdm(train_tagged.values)]), total_examples=len(train_tagged.values), epochs=1)\n",
    "    model_dbow.alpha -= 0.002\n",
    "    model_dbow.min_alpha = model_dbow.alpha"
   ]
  },
  {
   "cell_type": "code",
   "execution_count": 33,
   "id": "5df7c782",
   "metadata": {},
   "outputs": [],
   "source": [
    "def vec_for_learning(model, tagged_docs):\n",
    "    sents = tagged_docs.values\n",
    "    targets, regressors = zip(*[(doc.tags[0], model.infer_vector(doc.words)) for doc in sents])\n",
    "    return targets, regressors"
   ]
  },
  {
   "cell_type": "code",
   "execution_count": 34,
   "id": "9b3fb6d0",
   "metadata": {},
   "outputs": [],
   "source": [
    "y_train, X_train = vec_for_learning(model_dbow, train_tagged)\n",
    "y_test, X_test = vec_for_learning(model_dbow, test_tagged)"
   ]
  },
  {
   "cell_type": "markdown",
   "id": "1eaf38f6",
   "metadata": {},
   "source": [
    "Classification"
   ]
  },
  {
   "cell_type": "code",
   "execution_count": 35,
   "id": "6f0f8498",
   "metadata": {},
   "outputs": [],
   "source": [
    "clf = RandomForestClassifier(random_state=23)\n",
    "\n",
    "clf.fit(X_train, y_train)\n",
    "\n",
    "y_pred = clf.predict(X_test)\n",
    "\n",
    "#y_pred = np.argmax(clf.predict(X_test), axis=1)"
   ]
  },
  {
   "cell_type": "code",
   "execution_count": 37,
   "id": "4cd8d0ab",
   "metadata": {},
   "outputs": [],
   "source": [
    "from sklearn import metrics"
   ]
  },
  {
   "cell_type": "code",
   "execution_count": 39,
   "id": "28d19638",
   "metadata": {},
   "outputs": [
    {
     "name": "stdout",
     "output_type": "stream",
     "text": [
      "              precision    recall  f1-score   support\n",
      "\n",
      "     culture       0.49      0.30      0.37       342\n",
      "     hi-tech       0.55      0.51      0.53       455\n",
      "    politics       0.63      0.70      0.66       759\n",
      "     science       0.57      0.69      0.62       342\n",
      "\n",
      "    accuracy                           0.58      1898\n",
      "   macro avg       0.56      0.55      0.55      1898\n",
      "weighted avg       0.57      0.58      0.57      1898\n",
      "\n"
     ]
    }
   ],
   "source": [
    "print(metrics.classification_report(y_test, y_pred))"
   ]
  },
  {
   "cell_type": "markdown",
   "id": "4179e2e9",
   "metadata": {},
   "source": [
    "Visualization"
   ]
  },
  {
   "cell_type": "code",
   "execution_count": 41,
   "id": "3e2266a6",
   "metadata": {},
   "outputs": [
    {
     "data": {
      "image/png": "[encoded data removed]",
      "text/plain": [
       "<Figure size 640x480 with 2 Axes>"
      ]
     },
     "metadata": {},
     "output_type": "display_data"
    }
   ],
   "source": [
    "cm = confusion_matrix(y_test, y_pred)\n",
    "\n",
    "sns.heatmap(cm,\n",
    "            annot=True)\n",
    "plt.ylabel('Prediction',fontsize=13)\n",
    "plt.xlabel('Actual',fontsize=13)\n",
    "plt.title('Confusion Matrix',fontsize=17)\n",
    "plt.show()"
   ]
  },
  {
   "cell_type": "code",
   "execution_count": 47,
   "id": "3f32e7ca",
   "metadata": {},
   "outputs": [
    {
     "data": {
      "image/png": "[encoded data removed]",
      "text/plain": [
       "<Figure size 640x480 with 2 Axes>"
      ]
     },
     "metadata": {},
     "output_type": "display_data"
    }
   ],
   "source": [
    "cm = confusion_matrix(y_test, y_pred, labels=clf.classes_)\n",
    "color = 'white'\n",
    "disp = ConfusionMatrixDisplay(confusion_matrix=cm, display_labels=clf.classes_)\n",
    "disp.plot()\n",
    "plt.show()"
   ]
  },
  {
   "cell_type": "code",
   "execution_count": null,
   "id": "b160c10d",
   "metadata": {},
   "outputs": [],
   "source": []
  }
 ],
 "metadata": {
  "kernelspec": {
   "display_name": "Python 3 (ipykernel)",
   "language": "python",
   "name": "python3"
  },
  "language_info": {
   "codemirror_mode": {
    "name": "ipython",
    "version": 3
   },
   "file_extension": ".py",
   "mimetype": "text/x-python",
   "name": "python",
   "nbconvert_exporter": "python",
   "pygments_lexer": "ipython3",
   "version": "3.10.9"
  }
 },
 "nbformat": 4,
 "nbformat_minor": 5
}
