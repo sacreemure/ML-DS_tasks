{
 "cells": [
  {
   "cell_type": "markdown",
   "id": "aee8cdbe",
   "metadata": {},
   "source": [
    "посчитать кол-во предлогов \"в/из\" в корпусе"
   ]
  },
  {
   "cell_type": "code",
   "execution_count": null,
   "id": "0898fe18",
   "metadata": {},
   "outputs": [],
   "source": []
  },
  {
   "cell_type": "code",
   "execution_count": 2,
   "id": "3de315e2",
   "metadata": {},
   "outputs": [],
   "source": [
    "import os\n",
    "import re\n",
    "import pymorphy2\n",
    "import pandas as pd"
   ]
  },
  {
   "cell_type": "code",
   "execution_count": 3,
   "id": "2b2e2c5d",
   "metadata": {},
   "outputs": [],
   "source": [
    "corpus = \"C:\\\\Users\\\\dvb07\\\\OneDrive\\\\classificator\\\\predconstr\\\\IMS_lem_all.txt\""
   ]
  },
  {
   "cell_type": "code",
   "execution_count": 4,
   "id": "a3d58282",
   "metadata": {},
   "outputs": [],
   "source": [
    "with open(corpus, encoding='UTF-8') as f:\n",
    "    corp = f.read() "
   ]
  },
  {
   "cell_type": "code",
   "execution_count": 5,
   "id": "d0dfe77f",
   "metadata": {},
   "outputs": [],
   "source": [
    "prepositions = {\"под\": 0, \"над\": 0, \"в\": 0, \"из\": 0, \"за\": 0, \"перед\": 0}"
   ]
  },
  {
   "cell_type": "code",
   "execution_count": 6,
   "id": "700a8230",
   "metadata": {},
   "outputs": [],
   "source": [
    "for w in corp.lower().split(' '):\n",
    "    if w in prepositions:\n",
    "        prepositions[w] += 1   "
   ]
  },
  {
   "cell_type": "code",
   "execution_count": 7,
   "id": "55218e6e",
   "metadata": {},
   "outputs": [
    {
     "data": {
      "text/plain": [
       "{'под': 235, 'над': 108, 'в': 15079, 'из': 2050, 'за': 596, 'перед': 96}"
      ]
     },
     "execution_count": 7,
     "metadata": {},
     "output_type": "execute_result"
    }
   ],
   "source": [
    "prepositions"
   ]
  },
  {
   "cell_type": "code",
   "execution_count": 8,
   "id": "664caeda",
   "metadata": {},
   "outputs": [
    {
     "data": {
      "text/plain": [
       "dict_values([235, 108, 15079, 2050, 596, 96])"
      ]
     },
     "execution_count": 8,
     "metadata": {},
     "output_type": "execute_result"
    }
   ],
   "source": [
    "dict.values(prepositions)"
   ]
  },
  {
   "cell_type": "markdown",
   "id": "1c1ac647",
   "metadata": {},
   "source": [
    "-------------------------------------------"
   ]
  },
  {
   "cell_type": "code",
   "execution_count": 10,
   "id": "8df1996b",
   "metadata": {},
   "outputs": [],
   "source": [
    "articles_final = \"C:\\\\Users\\\\dvb07\\\\OneDrive\\\\classificator\\\\predconstr\\\\articles_final\\\\articles_final.txt\"\n",
    "law_file = \"C:\\\\Users\\\\dvb07\\\\OneDrive\\\\classificator\\\\predconstr\\\\law_v2\\\\law_v2.txt\"\n",
    "nauka_technika = \"C:\\\\Users\\\\dvb07\\\\OneDrive\\\\classificator\\\\predconstr\\\\nauka_tekhnika\\\\nauka_tekhnika.txt\"\n",
    "prose_clean = \"C:\\\\Users\\\\dvb07\\\\OneDrive\\\\classificator\\\\predconstr\\\\prose_clean\\\\prose_clean.txt\"\n",
    "spoken_final = \"C:\\\\Users\\\\dvb07\\\\OneDrive\\\\classificator\\\\predconstr\\\\spoken_final\\\\spoken_final.txt\"\n"
   ]
  },
  {
   "cell_type": "code",
   "execution_count": 11,
   "id": "43cd0132",
   "metadata": {},
   "outputs": [],
   "source": [
    "with open(articles_final, encoding='UTF-8') as f:\n",
    "    articles = f.read() \n",
    "    \n",
    "with open(law_file, encoding='UTF-8') as f:\n",
    "    law = f.read() \n",
    "\n",
    "with open(nauka_technika, encoding='UTF-8') as f:\n",
    "    nt = f.read() \n",
    "    \n",
    "with open(prose_clean, encoding='UTF-8') as f:\n",
    "    prose = f.read() \n",
    "    \n",
    "with open(spoken_final, encoding='UTF-8') as f:\n",
    "    spoken = f.read() "
   ]
  },
  {
   "cell_type": "code",
   "execution_count": 10,
   "id": "76bd5fc6",
   "metadata": {},
   "outputs": [
    {
     "data": {
      "text/plain": [
       "{'под': 1187, 'над': 430, 'в': 45688, 'из': 5726, 'за': 4583, 'перед': 475}"
      ]
     },
     "execution_count": 10,
     "metadata": {},
     "output_type": "execute_result"
    }
   ],
   "source": [
    "prep1 = {\"под\": 0, \"над\": 0, \"в\": 0, \"из\": 0, \"за\": 0, \"перед\": 0}\n",
    "\n",
    "for w in articles.lower().split(' '):\n",
    "    if w in prep1:\n",
    "        prep1[w] += 1   \n",
    "\n",
    "prep1"
   ]
  },
  {
   "cell_type": "markdown",
   "id": "98b43c1e",
   "metadata": {},
   "source": [
    "----------"
   ]
  },
  {
   "cell_type": "code",
   "execution_count": 12,
   "id": "c5a59d4b",
   "metadata": {},
   "outputs": [
    {
     "data": {
      "text/plain": [
       "{'под': 410, 'над': 93, 'в': 52513, 'из': 2345, 'за': 5664, 'перед': 191}"
      ]
     },
     "execution_count": 12,
     "metadata": {},
     "output_type": "execute_result"
    }
   ],
   "source": [
    "prep2 = {\"под\": 0, \"над\": 0, \"в\": 0, \"из\": 0, \"за\": 0, \"перед\": 0}\n",
    "\n",
    "for w in law.lower().split(' '):\n",
    "    if w in prep2:\n",
    "        prep2[w] += 1   \n",
    "        \n",
    "prep2"
   ]
  },
  {
   "cell_type": "markdown",
   "id": "5c8505a5",
   "metadata": {},
   "source": [
    "-----------------"
   ]
  },
  {
   "cell_type": "code",
   "execution_count": 13,
   "id": "c3d740b5",
   "metadata": {},
   "outputs": [
    {
     "data": {
      "text/plain": [
       "{'под': 1047, 'над': 408, 'в': 40366, 'из': 5647, 'за': 2132, 'перед': 299}"
      ]
     },
     "execution_count": 13,
     "metadata": {},
     "output_type": "execute_result"
    }
   ],
   "source": [
    "prep3 = {\"под\": 0, \"над\": 0, \"в\": 0, \"из\": 0, \"за\": 0, \"перед\": 0}\n",
    "\n",
    "for w in nt.lower().split(' '):\n",
    "    if w in prep3:\n",
    "        prep3[w] += 1   \n",
    "\n",
    "prep3"
   ]
  },
  {
   "cell_type": "markdown",
   "id": "e7e507cc",
   "metadata": {},
   "source": [
    "-------------------"
   ]
  },
  {
   "cell_type": "code",
   "execution_count": 14,
   "id": "b48ccee0",
   "metadata": {},
   "outputs": [
    {
     "data": {
      "text/plain": [
       "{'под': 1529, 'над': 949, 'в': 28663, 'из': 4538, 'за': 4876, 'перед': 723}"
      ]
     },
     "execution_count": 14,
     "metadata": {},
     "output_type": "execute_result"
    }
   ],
   "source": [
    "prep4 = {\"под\": 0, \"над\": 0, \"в\": 0, \"из\": 0, \"за\": 0, \"перед\": 0}\n",
    "\n",
    "for w in prose.lower().split(' '):\n",
    "    if w in prep4:\n",
    "        prep4[w] += 1   \n",
    "        \n",
    "prep4"
   ]
  },
  {
   "cell_type": "markdown",
   "id": "1574a544",
   "metadata": {},
   "source": [
    "------------------------"
   ]
  },
  {
   "cell_type": "code",
   "execution_count": 15,
   "id": "8cb8e02b",
   "metadata": {},
   "outputs": [
    {
     "data": {
      "text/plain": [
       "{'под': 821, 'над': 286, 'в': 28652, 'из': 3149, 'за': 4131, 'перед': 416}"
      ]
     },
     "execution_count": 15,
     "metadata": {},
     "output_type": "execute_result"
    }
   ],
   "source": [
    "prep5 = {\"под\": 0, \"над\": 0, \"в\": 0, \"из\": 0, \"за\": 0, \"перед\": 0}\n",
    "\n",
    "for w in spoken.lower().split(' '):\n",
    "    if w in prep5:\n",
    "        prep5[w] += 1  \n",
    "        \n",
    "prep5"
   ]
  },
  {
   "cell_type": "code",
   "execution_count": null,
   "id": "1fdaabe7",
   "metadata": {},
   "outputs": [],
   "source": []
  }
 ],
 "metadata": {
  "kernelspec": {
   "display_name": "Python 3 (ipykernel)",
   "language": "python",
   "name": "python3"
  },
  "language_info": {
   "codemirror_mode": {
    "name": "ipython",
    "version": 3
   },
   "file_extension": ".py",
   "mimetype": "text/x-python",
   "name": "python",
   "nbconvert_exporter": "python",
   "pygments_lexer": "ipython3",
   "version": "3.10.9"
  }
 },
 "nbformat": 4,
 "nbformat_minor": 5
}
